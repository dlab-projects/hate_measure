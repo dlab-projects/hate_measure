{
 "cells": [
  {
   "cell_type": "markdown",
   "id": "delayed-persian",
   "metadata": {},
   "source": [
    "# Measuring Hate Speech: Example \n",
    "\n",
    "This notebook details an example of training a network to predict the continuous hate speech score available in the Measuring Hate Speech corpus.\n",
    "\n",
    "Content Warning: The data frame we download from HuggingFace contains profane, offensive, and hateful content."
   ]
  },
  {
   "cell_type": "code",
   "execution_count": null,
   "id": "native-finding",
   "metadata": {},
   "outputs": [],
   "source": [
    "import datasets\n",
    "import pandas as pd\n",
    "import tensorflow as tf\n",
    "import transformers\n",
    "\n",
    "# The hate_measure repo must be locally installed\n",
    "from hate_measure.nn import regressors"
   ]
  },
  {
   "cell_type": "code",
   "execution_count": null,
   "id": "looking-riding",
   "metadata": {},
   "outputs": [],
   "source": [
    "# Download the Measuring Hate Speech corpus from HuggingFace\n",
    "dataset = datasets.load_dataset('ucberkeley-dlab/measuring-hate-speech', 'binary')\n",
    "df = dataset['train'].to_pandas()"
   ]
  },
  {
   "cell_type": "code",
   "execution_count": null,
   "id": "molecular-macintosh",
   "metadata": {},
   "outputs": [],
   "source": [
    "# Extract corresponding columns\n",
    "x = df['text']\n",
    "y = df['hate_speech_score'].values"
   ]
  },
  {
   "cell_type": "code",
   "execution_count": null,
   "id": "female-jason",
   "metadata": {},
   "outputs": [],
   "source": [
    "# Tokenize using RoBERTa Base\n",
    "tokenizer = transformers.RobertaTokenizer.from_pretrained(\"roberta-base\")\n",
    "tokens = tokenizer(x.tolist(), return_tensors='np', padding=True)\n",
    "inputs = [tokens['input_ids'], tokens['attention_mask']]"
   ]
  },
  {
   "cell_type": "code",
   "execution_count": null,
   "id": "quality-internship",
   "metadata": {},
   "outputs": [],
   "source": [
    "# Build the hate speech measurer using the hate_measure repo\n",
    "model = regressors.HateSpeechMeasurer.build_model(\n",
    "    transformer='roberta-base',\n",
    "    n_dense=64,\n",
    "    max_length=tokens['input_ids'].shape[1],\n",
    "    dropout_rate=0.1)"
   ]
  },
  {
   "cell_type": "code",
   "execution_count": null,
   "id": "finished-algorithm",
   "metadata": {},
   "outputs": [],
   "source": [
    "# Compile using mean squared error loss\n",
    "model.compile(\n",
    "    optimizer=tf.keras.optimizers.Adam(lr=0.001, epsilon=1e-8),\n",
    "    loss='mean_squared_error')"
   ]
  },
  {
   "cell_type": "code",
   "execution_count": null,
   "id": "composite-despite",
   "metadata": {},
   "outputs": [],
   "source": [
    "# Train the model. This may take a while depending on your set-up.\n",
    "history = model.fit(x=inputs,\n",
    "                    y=y,\n",
    "                    batch_size=16,\n",
    "                    epochs=5,\n",
    "                    verbose=True)"
   ]
  }
 ],
 "metadata": {
  "kernelspec": {
   "display_name": "hate",
   "language": "python",
   "name": "hate"
  },
  "language_info": {
   "codemirror_mode": {
    "name": "ipython",
    "version": 3
   },
   "file_extension": ".py",
   "mimetype": "text/x-python",
   "name": "python",
   "nbconvert_exporter": "python",
   "pygments_lexer": "ipython3",
   "version": "3.7.10"
  }
 },
 "nbformat": 4,
 "nbformat_minor": 5
}
